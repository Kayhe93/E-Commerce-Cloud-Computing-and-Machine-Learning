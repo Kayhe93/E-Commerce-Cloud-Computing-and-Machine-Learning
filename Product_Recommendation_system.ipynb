{
 "cells": [
  {
   "cell_type": "code",
   "execution_count": 6,
   "id": "86d69d97-ab09-4437-8ce3-b35488fa0bc2",
   "metadata": {
    "execution": {
     "iopub.execute_input": "2023-04-13T18:56:15.119281Z",
     "iopub.status.busy": "2023-04-13T18:56:15.118283Z",
     "iopub.status.idle": "2023-04-13T18:56:20.258652Z",
     "shell.execute_reply": "2023-04-13T18:56:20.257653Z",
     "shell.execute_reply.started": "2023-04-13T18:56:15.119281Z"
    },
    "tags": []
   },
   "outputs": [],
   "source": [
    "# Data preprocessing, math and plotting\n",
    "import os\n",
    "import numpy as np \n",
    "import pandas as pd \n",
    "from scipy import stats \n",
    "import matplotlib.pyplot as plt\n",
    "import seaborn as sns \n",
    "# ML \n",
    "import sklearn\n",
    "from sklearn.decomposition import TruncatedSVD\n",
    "from sklearn.feature_extraction.text import TfidfVectorizer, CountVectorizer\n",
    "from sklearn.neighbors import NearestNeighbors\n",
    "from sklearn.cluster import KMeans\n",
    "from sklearn.metrics import adjusted_rand_score\n",
    "from sklearn.linear_model import LinearRegression\n",
    "from sklearn.model_selection import train_test_split\n",
    "from sklearn.preprocessing import StandardScaler\n",
    "from sklearn.preprocessing import normalize\n",
    "from sklearn.metrics import r2_score, confusion_matrix"
   ]
  },
  {
   "cell_type": "code",
   "execution_count": 9,
   "id": "003dc73f-241a-446f-9abf-031b27d94414",
   "metadata": {
    "execution": {
     "iopub.execute_input": "2023-04-13T19:14:37.622072Z",
     "iopub.status.busy": "2023-04-13T19:14:37.620867Z",
     "iopub.status.idle": "2023-04-13T19:14:42.103543Z",
     "shell.execute_reply": "2023-04-13T19:14:42.101873Z",
     "shell.execute_reply.started": "2023-04-13T19:14:37.622072Z"
    },
    "tags": []
   },
   "outputs": [],
   "source": [
    "customers_df = pd.read_csv(r\"data\\olist_customers_dataset.csv\")\n",
    "geolocation_df = pd.read_csv(r'data/olist_geolocation_dataset.csv') # drop\n",
    "orders_df = pd.read_csv(r'data/olist_orders_dataset.csv')\n",
    "order_items_df = pd.read_csv(r'data/olist_order_items_dataset.csv')\n",
    "order_payments_df = pd.read_csv(r'data/olist_order_payments_dataset.csv')\n",
    "reviews_df = pd.read_csv(r'data/olist_order_reviews_dataset.csv') \n",
    "products_df = pd.read_csv(r'data/olist_products_dataset.csv')\n",
    "sellers_df = pd.read_csv(r'data/olist_sellers_dataset.csv') \n",
    "category_names_translated_df = pd.read_csv(r'data/product_category_name_translation.csv') \n",
    "# Get product category translation\n",
    "products_translated_df = category_names_translated_df.merge(products_df, on='product_category_name', how='left')\n",
    "products_translated_df.drop(products_translated_df.columns[[0]], axis=1, inplace=True)"
   ]
  },
  {
   "cell_type": "code",
   "execution_count": 10,
   "id": "7db9c954-084e-4e14-b19a-c0dfcca704fa",
   "metadata": {
    "execution": {
     "iopub.execute_input": "2023-04-13T19:15:13.588600Z",
     "iopub.status.busy": "2023-04-13T19:15:13.587600Z",
     "iopub.status.idle": "2023-04-13T19:15:15.625118Z",
     "shell.execute_reply": "2023-04-13T19:15:15.624118Z",
     "shell.execute_reply.started": "2023-04-13T19:15:13.588600Z"
    },
    "tags": []
   },
   "outputs": [],
   "source": [
    "merged_df = orders_df.merge(order_items_df, on='order_id', how='left')\n",
    "merged_df = merged_df.merge(order_payments_df, on='order_id', how='outer', validate='m:m')\n",
    "merged_df = merged_df.merge(reviews_df, on='order_id', how='outer')\n",
    "merged_df = merged_df.merge(customers_df, on='customer_id', how='outer')\n",
    "merged_df = merged_df.merge(sellers_df, on='seller_id', how='outer')\n",
    "merged_df = merged_df.merge(products_translated_df, on='product_id', how='outer')"
   ]
  },
  {
   "cell_type": "markdown",
   "id": "0f67ae55-fb61-46bb-a7d8-3c195ab72cd9",
   "metadata": {},
   "source": [
    "### Create Model-based Collaborative filtering system"
   ]
  },
  {
   "cell_type": "markdown",
   "id": "b86a8cfe-e758-4dfd-9611-9e5c800ce322",
   "metadata": {
    "execution": {
     "iopub.execute_input": "2023-04-13T19:17:03.977335Z",
     "iopub.status.busy": "2023-04-13T19:17:03.976024Z",
     "iopub.status.idle": "2023-04-13T19:17:04.217030Z",
     "shell.execute_reply": "2023-04-13T19:17:04.215074Z",
     "shell.execute_reply.started": "2023-04-13T19:17:03.977335Z"
    },
    "tags": []
   },
   "source": [
    "##### Recommend items to customers based on the purchase history and similarity of ratings provided by other customers. Items bought by the same customers, with the highest ratings, will be recommended to other customers with similar purchase history, weighted by their item rankings. Using a collaborative filtering technique helps predict products that a customer might buy, based on the patterns seen by customer specific preferences."
   ]
  },
  {
   "cell_type": "markdown",
   "id": "d883d3cb-1c26-492f-8fca-2aa4f548f259",
   "metadata": {
    "execution": {
     "iopub.execute_input": "2023-04-13T19:18:26.665782Z",
     "iopub.status.busy": "2023-04-13T19:18:26.665782Z",
     "iopub.status.idle": "2023-04-13T19:18:26.887745Z",
     "shell.execute_reply": "2023-04-13T19:18:26.886745Z",
     "shell.execute_reply.started": "2023-04-13T19:18:26.665782Z"
    },
    "tags": []
   },
   "source": [
    "##### Utility Matrix & Singular Value Decomposition (SVD)\n",
    "###### A utility matrix consits of all possible customer-item preferences, using item similarity weighted by the customer's ratings of said items. The data associated with each customer represents how much the customer appreciates the item, in respect to others who purchase the same item.\n",
    "###### The SVD transformer performs linear dimensionality reduction by means of truncated singular value decomposition (SVD). Unlike PCA, principle component analysis, this estimator does not center the data before computing the singular value decomposition. This means that it can efficiently work with sparse matices."
   ]
  },
  {
   "cell_type": "code",
   "execution_count": 18,
   "id": "471ac0ab-7233-43ec-9db8-8c1c58bddd5a",
   "metadata": {
    "execution": {
     "iopub.execute_input": "2023-04-13T19:34:47.285352Z",
     "iopub.status.busy": "2023-04-13T19:34:47.285126Z",
     "iopub.status.idle": "2023-04-13T19:34:50.471592Z",
     "shell.execute_reply": "2023-04-13T19:34:50.468195Z",
     "shell.execute_reply.started": "2023-04-13T19:34:47.285352Z"
    },
    "tags": []
   },
   "outputs": [
    {
     "data": {
      "text/plain": [
       "'009c09f439988bc06a93d6b8186dce73'"
      ]
     },
     "execution_count": 18,
     "metadata": {},
     "output_type": "execute_result"
    }
   ],
   "source": [
    "# subset of dataset 'df_train'\n",
    "df_train_subset = merged_df.head(10000)\n",
    "\n",
    "df_train_util_matrix = df_train_subset.pivot_table(values='review_score', index='customer_id', columns='product_id', fill_value=0)\n",
    "df_train_util_matrix.head()\n",
    "              \n",
    "# transpose the matrix\n",
    "X = df_train_util_matrix.T\n",
    "X.head()\n",
    "\n",
    "# unique products in subset of data\n",
    "X1 = X\n",
    "\n",
    "# SVD transformation\n",
    "SVD = TruncatedSVD(n_components=10)\n",
    "decomposed_matrix = SVD.fit_transform(X)\n",
    "decomposed_matrix.shape\n",
    "\n",
    "# Correlation Matrix\n",
    "correlation_matrix = np.corrcoef(decomposed_matrix)\n",
    "\n",
    "# Isolating Product ID # 009c09f439988bc06a93d6b8186dce73 from the Correlation Matrix (random selection based on index value[1])\n",
    "X.index[1]"
   ]
  },
  {
   "cell_type": "code",
   "execution_count": 25,
   "id": "1f9ceb8a-c780-45fa-9d67-247974f91db4",
   "metadata": {
    "execution": {
     "iopub.execute_input": "2023-04-13T19:38:49.017561Z",
     "iopub.status.busy": "2023-04-13T19:38:49.017561Z",
     "iopub.status.idle": "2023-04-13T19:38:49.192981Z",
     "shell.execute_reply": "2023-04-13T19:38:49.191160Z",
     "shell.execute_reply.started": "2023-04-13T19:38:49.017561Z"
    },
    "tags": []
   },
   "outputs": [],
   "source": [
    "# Index number and product ID purchased by customer \n",
    "i = '009c09f439988bc06a93d6b8186dce73'\n",
    "\n",
    "product_names = list(X.index)\n",
    "product_id = product_names.index(i)\n",
    "\n",
    "# Correlation for all items with the item purchased by this customer based on items rated by other customers people who bought the same product\n",
    "correlation_product_ID = correlation_matrix[product_id]\n",
    "correlation_product_ID.shape\n",
    "\n",
    "# Recommending the most highly correlated products in sequence with scores of over 0.90\n",
    "Recommend = list(X.index[correlation_product_ID > 0.90])\n",
    "\n",
    "# Removes the item already bought by the customer \n",
    "Recommend.remove(i) "
   ]
  },
  {
   "cell_type": "markdown",
   "id": "e056f60a-27cc-4f25-9f91-0ee62a185f16",
   "metadata": {},
   "source": [
    "#### Below are the top products to be displayed by the recommendation system to the above customer based on the purchase history of other customers in the website (Correlation score over 90%)\n",
    "#### (only if we knew what each product ID represented....)"
   ]
  },
  {
   "cell_type": "code",
   "execution_count": 26,
   "id": "2d4be194-0d0c-4713-8cd7-8f7aaf1f7dd4",
   "metadata": {
    "execution": {
     "iopub.execute_input": "2023-04-13T19:38:50.230327Z",
     "iopub.status.busy": "2023-04-13T19:38:50.230327Z",
     "iopub.status.idle": "2023-04-13T19:38:50.407997Z",
     "shell.execute_reply": "2023-04-13T19:38:50.406592Z",
     "shell.execute_reply.started": "2023-04-13T19:38:50.230327Z"
    },
    "tags": []
   },
   "outputs": [
    {
     "data": {
      "text/plain": [
       "['060890b1af8cc031e9dde49cf544f884',\n",
       " '0f5d0170c03b333aa1a44fa11e040e75',\n",
       " '1468ae815f666819cd3fa15be0cc035a',\n",
       " '1cf4209f5358de32c5cae2c2dbb84aed',\n",
       " '1d3d7e2bc2cb75e4e2c798ec9aae0279',\n",
       " '2362291929f77eccf5f5cb26029dcf90',\n",
       " '2827ebfb043a328a13a06ca9165cad0a',\n",
       " '3b0fbb3ab5b1512278d2e1c695b07e85',\n",
       " '3d250bb3d2b89c9bea15327aed52d8ca',\n",
       " '4ae634441e444ca4bc85903cafe98d73',\n",
       " '4c1bbc12438daec98a77243c2bf7a3ba',\n",
       " '59c5e6e108b88212fb98525c9000ecfb',\n",
       " '5fb8e63ae576fbfbd243c50c5ce74050',\n",
       " '716854aa9d670cabfec04c7eeddd85b8',\n",
       " '802b191477641b98e903230bcfaa2a47',\n",
       " '873eb5f3b8cc503730e472a14cd26616',\n",
       " '8e87b57f5bc7661130ee7803017f3f32',\n",
       " '9aa3269c14e72d138d7e346897444d0f',\n",
       " 'de5596e009313841e57616878a6fbce0',\n",
       " 'ea17b2137544a3b0a3eaf107887472d9',\n",
       " 'f130542b9dab05d4540ba00f35f0880f',\n",
       " 'fca5d31cf768e5bf8a75483fa7f4674c']"
      ]
     },
     "execution_count": 26,
     "metadata": {},
     "output_type": "execute_result"
    }
   ],
   "source": [
    "Recommend"
   ]
  }
 ],
 "metadata": {
  "kernelspec": {
   "display_name": "Python 3 (ipykernel)",
   "language": "python",
   "name": "python3"
  },
  "language_info": {
   "codemirror_mode": {
    "name": "ipython",
    "version": 3
   },
   "file_extension": ".py",
   "mimetype": "text/x-python",
   "name": "python",
   "nbconvert_exporter": "python",
   "pygments_lexer": "ipython3",
   "version": "3.10.10"
  }
 },
 "nbformat": 4,
 "nbformat_minor": 5
}
