{
 "cells": [
  {
   "cell_type": "code",
   "execution_count": 1,
   "id": "86d69d97-ab09-4437-8ce3-b35488fa0bc2",
   "metadata": {
    "execution": {
     "iopub.execute_input": "2023-04-13T23:35:43.196427Z",
     "iopub.status.busy": "2023-04-13T23:35:43.195428Z",
     "iopub.status.idle": "2023-04-13T23:35:46.417305Z",
     "shell.execute_reply": "2023-04-13T23:35:46.416339Z",
     "shell.execute_reply.started": "2023-04-13T23:35:43.196427Z"
    },
    "tags": []
   },
   "outputs": [],
   "source": [
    "# Data preprocessing, math and plotting\n",
    "import os\n",
    "import numpy as np \n",
    "import pandas as pd \n",
    "from scipy import stats \n",
    "import matplotlib.pyplot as plt\n",
    "import seaborn as sns \n",
    "# ML \n",
    "import sklearn\n",
    "from sklearn.decomposition import TruncatedSVD\n",
    "from sklearn.feature_extraction.text import TfidfVectorizer, CountVectorizer\n",
    "from sklearn.neighbors import NearestNeighbors\n",
    "from sklearn.cluster import KMeans\n",
    "from sklearn.metrics import adjusted_rand_score\n",
    "from sklearn.linear_model import LinearRegression\n",
    "from sklearn.model_selection import train_test_split\n",
    "from sklearn.preprocessing import StandardScaler\n",
    "from sklearn.preprocessing import normalize\n",
    "from sklearn.metrics import r2_score, confusion_matrix"
   ]
  },
  {
   "cell_type": "code",
   "execution_count": 2,
   "id": "003dc73f-241a-446f-9abf-031b27d94414",
   "metadata": {
    "execution": {
     "iopub.execute_input": "2023-04-13T23:35:46.418302Z",
     "iopub.status.busy": "2023-04-13T23:35:46.418302Z",
     "iopub.status.idle": "2023-04-13T23:35:48.599071Z",
     "shell.execute_reply": "2023-04-13T23:35:48.598067Z",
     "shell.execute_reply.started": "2023-04-13T23:35:46.418302Z"
    },
    "tags": []
   },
   "outputs": [],
   "source": [
    "customers_df = pd.read_csv(r\"data\\olist_customers_dataset.csv\")\n",
    "geolocation_df = pd.read_csv(r'data/olist_geolocation_dataset.csv') # drop\n",
    "orders_df = pd.read_csv(r'data/olist_orders_dataset.csv')\n",
    "order_items_df = pd.read_csv(r'data/olist_order_items_dataset.csv')\n",
    "order_payments_df = pd.read_csv(r'data/olist_order_payments_dataset.csv')\n",
    "reviews_df = pd.read_csv(r'data/olist_order_reviews_dataset.csv') \n",
    "products_df = pd.read_csv(r'data/olist_products_dataset.csv')\n",
    "sellers_df = pd.read_csv(r'data/olist_sellers_dataset.csv') \n",
    "category_names_translated_df = pd.read_csv(r'data/product_category_name_translation.csv') \n",
    "# Get product category translation\n",
    "products_translated_df = category_names_translated_df.merge(products_df, on='product_category_name', how='left')\n",
    "products_translated_df.drop(products_translated_df.columns[[0]], axis=1, inplace=True)"
   ]
  },
  {
   "cell_type": "code",
   "execution_count": 3,
   "id": "7db9c954-084e-4e14-b19a-c0dfcca704fa",
   "metadata": {
    "execution": {
     "iopub.execute_input": "2023-04-13T23:35:48.601031Z",
     "iopub.status.busy": "2023-04-13T23:35:48.600067Z",
     "iopub.status.idle": "2023-04-13T23:35:50.016523Z",
     "shell.execute_reply": "2023-04-13T23:35:50.015561Z",
     "shell.execute_reply.started": "2023-04-13T23:35:48.601031Z"
    },
    "tags": []
   },
   "outputs": [],
   "source": [
    "merged_df = orders_df.merge(order_items_df, on='order_id', how='left')\n",
    "merged_df = merged_df.merge(order_payments_df, on='order_id', how='outer', validate='m:m')\n",
    "merged_df = merged_df.merge(reviews_df, on='order_id', how='outer')\n",
    "merged_df = merged_df.merge(customers_df, on='customer_id', how='outer')\n",
    "merged_df = merged_df.merge(sellers_df, on='seller_id', how='outer')\n",
    "merged_df = merged_df.merge(products_translated_df, on='product_id', how='outer')"
   ]
  },
  {
   "cell_type": "markdown",
   "id": "0f67ae55-fb61-46bb-a7d8-3c195ab72cd9",
   "metadata": {},
   "source": [
    "### Create Model-based Collaborative filtering system for Product Recommendation"
   ]
  },
  {
   "cell_type": "markdown",
   "id": "b86a8cfe-e758-4dfd-9611-9e5c800ce322",
   "metadata": {
    "execution": {
     "iopub.execute_input": "2023-04-13T19:17:03.977335Z",
     "iopub.status.busy": "2023-04-13T19:17:03.976024Z",
     "iopub.status.idle": "2023-04-13T19:17:04.217030Z",
     "shell.execute_reply": "2023-04-13T19:17:04.215074Z",
     "shell.execute_reply.started": "2023-04-13T19:17:03.977335Z"
    },
    "tags": []
   },
   "source": [
    "##### Recommend items to customers based on the purchase history and similarity of ratings provided by other customers. Items bought by the same customers, with the highest ratings, will be recommended to other customers with similar purchase history, weighted by their item rankings. Using a collaborative filtering technique helps predict products that a customer might buy, based on the patterns seen by customer specific preferences."
   ]
  },
  {
   "cell_type": "markdown",
   "id": "d883d3cb-1c26-492f-8fca-2aa4f548f259",
   "metadata": {
    "execution": {
     "iopub.execute_input": "2023-04-13T19:18:26.665782Z",
     "iopub.status.busy": "2023-04-13T19:18:26.665782Z",
     "iopub.status.idle": "2023-04-13T19:18:26.887745Z",
     "shell.execute_reply": "2023-04-13T19:18:26.886745Z",
     "shell.execute_reply.started": "2023-04-13T19:18:26.665782Z"
    },
    "tags": []
   },
   "source": [
    "##### Utility Matrix & Singular Value Decomposition (SVD)\n",
    "###### A utility matrix consits of all possible customer-item preferences, using item similarity weighted by the customer's ratings of said items. The data associated with each customer represents how much the customer appreciates the item, in respect to others who purchase the same item.\n",
    "###### The SVD transformer performs linear dimensionality reduction by means of truncated singular value decomposition (SVD). Unlike PCA, principle component analysis, this estimator does not center the data before computing the singular value decomposition. This means that it can efficiently work with sparse matices."
   ]
  },
  {
   "cell_type": "code",
   "execution_count": 10,
   "id": "471ac0ab-7233-43ec-9db8-8c1c58bddd5a",
   "metadata": {
    "execution": {
     "iopub.execute_input": "2023-04-13T23:39:11.652551Z",
     "iopub.status.busy": "2023-04-13T23:39:11.651549Z",
     "iopub.status.idle": "2023-04-13T23:39:13.148684Z",
     "shell.execute_reply": "2023-04-13T23:39:13.147965Z",
     "shell.execute_reply.started": "2023-04-13T23:39:11.652551Z"
    },
    "tags": []
   },
   "outputs": [
    {
     "name": "stdout",
     "output_type": "stream",
     "text": [
      "(1198, 10)\n",
      "009c09f439988bc06a93d6b8186dce73\n"
     ]
    }
   ],
   "source": [
    "# subset of dataset 'df_train'\n",
    "df_train_subset = merged_df.head(10000)\n",
    "\n",
    "df_train_util_matrix = df_train_subset.pivot_table(values='review_score', index='customer_id', columns='product_id', fill_value=0)\n",
    "df_train_util_matrix.head()\n",
    "            \n",
    "# transpose the matrix\n",
    "X = df_train_util_matrix.T\n",
    "X.head()\n",
    "\n",
    "# unique products in subset of data\n",
    "X1 = X\n",
    "\n",
    "# SVD transformation\n",
    "SVD = TruncatedSVD(n_components=10)\n",
    "decomposed_matrix = SVD.fit_transform(X)\n",
    "print(decomposed_matrix.shape)\n",
    "\n",
    "# Correlation Matrix\n",
    "correlation_matrix = np.corrcoef(decomposed_matrix)\n",
    "\n",
    "# Isolating Product ID # 009c09f439988bc06a93d6b8186dce73 from the Correlation Matrix (random selection based on index value[1])\n",
    "product = X.index[1]\n",
    "print(product)\n",
    "\n",
    "# Index number and product ID purchased by customer \n",
    "product_names = list(X.index)\n",
    "product_id = product_names.index(product)\n",
    "\n",
    "# Correlation for all items with the item purchased by this customer based on items rated by other customers people who bought the same product\n",
    "correlation_product_ID = correlation_matrix[product_id]\n",
    "correlation_product_ID.shape\n",
    "\n",
    "# Recommending the most highly correlated products in sequence with scores of over 0.90\n",
    "Recommend = list(X.index[correlation_product_ID > 0.90])\n",
    "\n",
    "# Removes the item already bought by the customer \n",
    "Recommend.remove(i) "
   ]
  },
  {
   "cell_type": "markdown",
   "id": "e056f60a-27cc-4f25-9f91-0ee62a185f16",
   "metadata": {},
   "source": [
    "#### Below are the top products to be displayed by the recommendation system to the above customer based on the purchase history of other customers in the website (Correlation score over 90%)\n",
    "#### (only if we knew what each product ID represented....)"
   ]
  },
  {
   "cell_type": "code",
   "execution_count": 6,
   "id": "2d4be194-0d0c-4713-8cd7-8f7aaf1f7dd4",
   "metadata": {
    "execution": {
     "iopub.execute_input": "2023-04-13T23:37:17.813711Z",
     "iopub.status.busy": "2023-04-13T23:37:17.812712Z",
     "iopub.status.idle": "2023-04-13T23:37:21.013812Z",
     "shell.execute_reply": "2023-04-13T23:37:21.012812Z",
     "shell.execute_reply.started": "2023-04-13T23:37:17.813711Z"
    },
    "tags": []
   },
   "outputs": [
    {
     "data": {
      "text/plain": [
       "['0faf79119af5cb143f82d98d27d9c5e3',\n",
       " '1e96993bf0abebd3ee50f96a52bb51aa',\n",
       " '1ede3c17889b7e18f4ac33d2fd0bef96',\n",
       " '2362291929f77eccf5f5cb26029dcf90',\n",
       " '3225c54bb2785c33f49f50398fcdb88c',\n",
       " '3386491e65bf02586461d30dc3fe53f1',\n",
       " '35b1777d7b1b0e7839a9d0bd138f4c76',\n",
       " '361b81e3cae3b21bd0119793c5399717',\n",
       " '3bf87d2001b8176e6a3ad804b80774b4',\n",
       " '4107fe37acd2074de27143fa85966f67',\n",
       " '441d07171060d7bca33d9946d792da25',\n",
       " '63b2c54ffb7ded0576c3bd1346a53d1c',\n",
       " '6a33f85f66191cc5b645b5f775ca93d9',\n",
       " '6d6c510f2222e168bf3b6b67e24c9535',\n",
       " '7c45216f5d973dbd72f3a6e5186438c0',\n",
       " '8fd57e95e8bf639d562620356071bc23',\n",
       " '986af931e7ce399914deaa43d224b124',\n",
       " '99e6f14f74a00605ad9cfe8c4bb29385',\n",
       " 'b7c8f19a99c322aa3d90d93fbe9eb275',\n",
       " 'cad39e71c0fe2f6ce875040d4ac43a4b',\n",
       " 'ce846b23f06e1c42afbc68efc1d35b82',\n",
       " 'd4bf1e29f41deda5c71da49e4d39fb1d',\n",
       " 'd9bdf643d95cb89844c0da1a0df1d16e',\n",
       " 'da97969972a524bca894f97ea6bcff90',\n",
       " 'ddf035e3aa3fdf3d2869e8be378d001a',\n",
       " 'e5196a46c6c0e0874d6e41ed149dcf20',\n",
       " 'e99d30bfed97b6061153d250f19d381b']"
      ]
     },
     "execution_count": 6,
     "metadata": {},
     "output_type": "execute_result"
    }
   ],
   "source": [
    "Recommend"
   ]
  },
  {
   "cell_type": "code",
   "execution_count": null,
   "id": "29f11fbd-5f89-454d-875e-208d67f28598",
   "metadata": {},
   "outputs": [],
   "source": []
  }
 ],
 "metadata": {
  "kernelspec": {
   "display_name": "Python 3 (ipykernel)",
   "language": "python",
   "name": "python3"
  },
  "language_info": {
   "codemirror_mode": {
    "name": "ipython",
    "version": 3
   },
   "file_extension": ".py",
   "mimetype": "text/x-python",
   "name": "python",
   "nbconvert_exporter": "python",
   "pygments_lexer": "ipython3",
   "version": "3.10.10"
  }
 },
 "nbformat": 4,
 "nbformat_minor": 5
}
