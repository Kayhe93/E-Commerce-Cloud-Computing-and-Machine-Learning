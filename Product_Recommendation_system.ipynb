{
 "cells": [
  {
   "cell_type": "code",
   "execution_count": 1,
   "id": "86d69d97-ab09-4437-8ce3-b35488fa0bc2",
   "metadata": {
    "execution": {
     "iopub.execute_input": "2023-04-18T00:02:30.804986Z",
     "iopub.status.busy": "2023-04-18T00:02:30.804002Z",
     "iopub.status.idle": "2023-04-18T00:02:34.212986Z",
     "shell.execute_reply": "2023-04-18T00:02:34.211984Z",
     "shell.execute_reply.started": "2023-04-18T00:02:30.804986Z"
    },
    "tags": []
   },
   "outputs": [],
   "source": [
    "# Data preprocessing, math and plotting\n",
    "import os\n",
    "import numpy as np \n",
    "import pandas as pd \n",
    "from scipy import stats \n",
    "import matplotlib.pyplot as plt\n",
    "import seaborn as sns \n",
    "# ML \n",
    "import sklearn\n",
    "from sklearn.decomposition import TruncatedSVD\n",
    "from sklearn.feature_extraction.text import TfidfVectorizer, CountVectorizer\n",
    "from sklearn.neighbors import NearestNeighbors\n",
    "from sklearn.cluster import KMeans\n",
    "from sklearn.metrics import adjusted_rand_score\n",
    "from sklearn.linear_model import LinearRegression\n",
    "from sklearn.model_selection import train_test_split\n",
    "from sklearn.preprocessing import StandardScaler\n",
    "from sklearn.preprocessing import normalize\n",
    "from sklearn.metrics import r2_score, confusion_matrix"
   ]
  },
  {
   "cell_type": "code",
   "execution_count": 2,
   "id": "003dc73f-241a-446f-9abf-031b27d94414",
   "metadata": {
    "execution": {
     "iopub.execute_input": "2023-04-18T00:02:34.213985Z",
     "iopub.status.busy": "2023-04-18T00:02:34.213985Z",
     "iopub.status.idle": "2023-04-18T00:02:36.414984Z",
     "shell.execute_reply": "2023-04-18T00:02:36.414020Z",
     "shell.execute_reply.started": "2023-04-18T00:02:34.213985Z"
    },
    "tags": []
   },
   "outputs": [],
   "source": [
    "customers_df = pd.read_csv(r\"data\\olist_customers_dataset.csv\")\n",
    "geolocation_df = pd.read_csv(r'data/olist_geolocation_dataset.csv') # drop\n",
    "orders_df = pd.read_csv(r'data/olist_orders_dataset.csv')\n",
    "order_items_df = pd.read_csv(r'data/olist_order_items_dataset.csv')\n",
    "order_payments_df = pd.read_csv(r'data/olist_order_payments_dataset.csv')\n",
    "reviews_df = pd.read_csv(r'data/olist_order_reviews_dataset.csv') \n",
    "products_df = pd.read_csv(r'data/olist_products_dataset.csv')\n",
    "sellers_df = pd.read_csv(r'data/olist_sellers_dataset.csv') \n",
    "category_names_translated_df = pd.read_csv(r'data/product_category_name_translation.csv') \n",
    "# Get product category translation\n",
    "products_translated_df = category_names_translated_df.merge(products_df, on='product_category_name', how='left')\n",
    "products_translated_df.drop(products_translated_df.columns[[0]], axis=1, inplace=True)"
   ]
  },
  {
   "cell_type": "code",
   "execution_count": 3,
   "id": "7db9c954-084e-4e14-b19a-c0dfcca704fa",
   "metadata": {
    "execution": {
     "iopub.execute_input": "2023-04-18T00:02:36.415985Z",
     "iopub.status.busy": "2023-04-18T00:02:36.415985Z",
     "iopub.status.idle": "2023-04-18T00:02:37.880123Z",
     "shell.execute_reply": "2023-04-18T00:02:37.879163Z",
     "shell.execute_reply.started": "2023-04-18T00:02:36.415985Z"
    },
    "tags": []
   },
   "outputs": [],
   "source": [
    "merged_df = orders_df.merge(order_items_df, on='order_id', how='left')\n",
    "merged_df = merged_df.merge(order_payments_df, on='order_id', how='outer', validate='m:m')\n",
    "merged_df = merged_df.merge(reviews_df, on='order_id', how='outer')\n",
    "merged_df = merged_df.merge(customers_df, on='customer_id', how='outer')\n",
    "merged_df = merged_df.merge(sellers_df, on='seller_id', how='outer')\n",
    "merged_df = merged_df.merge(products_translated_df, on='product_id', how='outer')"
   ]
  },
  {
   "cell_type": "markdown",
   "id": "0f67ae55-fb61-46bb-a7d8-3c195ab72cd9",
   "metadata": {},
   "source": [
    "### Create Model-based Collaborative filtering system for Product Recommendation"
   ]
  },
  {
   "cell_type": "markdown",
   "id": "b86a8cfe-e758-4dfd-9611-9e5c800ce322",
   "metadata": {
    "execution": {
     "iopub.execute_input": "2023-04-13T19:17:03.977335Z",
     "iopub.status.busy": "2023-04-13T19:17:03.976024Z",
     "iopub.status.idle": "2023-04-13T19:17:04.217030Z",
     "shell.execute_reply": "2023-04-13T19:17:04.215074Z",
     "shell.execute_reply.started": "2023-04-13T19:17:03.977335Z"
    },
    "tags": []
   },
   "source": [
    "##### Recommend items to customers based on the purchase history and similarity of ratings provided by other customers. Items bought by the same customers, with the highest ratings, will be recommended to other customers with similar purchase history, weighted by their item rankings. Using a collaborative filtering technique helps predict products that a customer might buy, based on the patterns seen by customer specific preferences."
   ]
  },
  {
   "cell_type": "markdown",
   "id": "d883d3cb-1c26-492f-8fca-2aa4f548f259",
   "metadata": {
    "execution": {
     "iopub.execute_input": "2023-04-13T19:18:26.665782Z",
     "iopub.status.busy": "2023-04-13T19:18:26.665782Z",
     "iopub.status.idle": "2023-04-13T19:18:26.887745Z",
     "shell.execute_reply": "2023-04-13T19:18:26.886745Z",
     "shell.execute_reply.started": "2023-04-13T19:18:26.665782Z"
    },
    "tags": []
   },
   "source": [
    "##### Utility Matrix & Singular Value Decomposition (SVD)\n",
    "###### A utility matrix consits of all possible customer-item preferences, using item similarity weighted by the customer's ratings of said items. The data associated with each customer represents how much the customer appreciates the item, in respect to others who purchase the same item.\n",
    "###### The SVD transformer performs linear dimensionality reduction by means of truncated singular value decomposition (SVD). Unlike PCA, principle component analysis, this estimator does not center the data before computing the singular value decomposition. This means that it can efficiently work with sparse matices."
   ]
  },
  {
   "cell_type": "code",
   "execution_count": 6,
   "id": "471ac0ab-7233-43ec-9db8-8c1c58bddd5a",
   "metadata": {
    "execution": {
     "iopub.execute_input": "2023-04-18T00:03:10.691125Z",
     "iopub.status.busy": "2023-04-18T00:03:10.691125Z",
     "iopub.status.idle": "2023-04-18T00:03:12.181123Z",
     "shell.execute_reply": "2023-04-18T00:03:12.180124Z",
     "shell.execute_reply.started": "2023-04-18T00:03:10.691125Z"
    },
    "tags": []
   },
   "outputs": [
    {
     "name": "stdout",
     "output_type": "stream",
     "text": [
      "(1198, 10)\n",
      "009c09f439988bc06a93d6b8186dce73\n"
     ]
    }
   ],
   "source": [
    "# subset of dataset 'df_train'\n",
    "df_train_subset = merged_df.head(10000)\n",
    "\n",
    "df_train_util_matrix = df_train_subset.pivot_table(values='review_score', index='customer_id', columns='product_id', fill_value=0)\n",
    "df_train_util_matrix.head()\n",
    "            \n",
    "# transpose the matrix\n",
    "X = df_train_util_matrix.T\n",
    "X.head()\n",
    "\n",
    "# unique products in subset of data\n",
    "X1 = X\n",
    "\n",
    "# SVD transformation\n",
    "SVD = TruncatedSVD(n_components=10)\n",
    "decomposed_matrix = SVD.fit_transform(X)\n",
    "print(decomposed_matrix.shape)\n",
    "\n",
    "# Correlation Matrix\n",
    "correlation_matrix = np.corrcoef(decomposed_matrix)\n",
    "\n",
    "# Isolating Product ID # 009c09f439988bc06a93d6b8186dce73 from the Correlation Matrix (random selection based on index value[1])\n",
    "product = X.index[1]\n",
    "print(product)\n",
    "\n",
    "# Index number and product ID purchased by customer \n",
    "product_names = list(X.index)\n",
    "product_id = product_names.index(product)\n",
    "\n",
    "# Correlation for all items with the item purchased by this customer based on items rated by other customers people who bought the same product\n",
    "correlation_product_ID = correlation_matrix[product_id]\n",
    "correlation_product_ID.shape\n",
    "\n",
    "# Recommending the most highly correlated products in sequence with scores of over 0.90\n",
    "Recommend = list(X.index[correlation_product_ID > 0.90])\n",
    "\n",
    "# Removes the item already bought by the customer \n",
    "Recommend.remove(product) "
   ]
  },
  {
   "cell_type": "markdown",
   "id": "e056f60a-27cc-4f25-9f91-0ee62a185f16",
   "metadata": {},
   "source": [
    "#### Below are the top products to be displayed by the recommendation system to the above customer based on the purchase history of other customers in the website (Correlation score over 90%)\n",
    "#### (only if we knew what each product ID represented....)"
   ]
  },
  {
   "cell_type": "code",
   "execution_count": 7,
   "id": "2d4be194-0d0c-4713-8cd7-8f7aaf1f7dd4",
   "metadata": {
    "execution": {
     "iopub.execute_input": "2023-04-18T00:03:12.183122Z",
     "iopub.status.busy": "2023-04-18T00:03:12.182123Z",
     "iopub.status.idle": "2023-04-18T00:03:12.325125Z",
     "shell.execute_reply": "2023-04-18T00:03:12.324158Z",
     "shell.execute_reply.started": "2023-04-18T00:03:12.183122Z"
    },
    "tags": []
   },
   "outputs": [
    {
     "data": {
      "text/plain": [
       "['06f442515f5159d999a684dfdb881917',\n",
       " '0a2fff0d95ef3bbb7dffc618f9542ba9',\n",
       " '1c42a107473d6b20db8ac7772b870e33',\n",
       " '1d2498694abb5754d2a497801dc4900e',\n",
       " '2edda1e590d6c19e5da8e72acfd2a492',\n",
       " '3a2df6d2493defbb3b0f25c4f359423f',\n",
       " '3bf87d2001b8176e6a3ad804b80774b4',\n",
       " '4629acd4e2c278e7787b2c48b006246e',\n",
       " '4f915391faab8ae23c234735d5080c31',\n",
       " '59fe488ea6ac9439bc86663f4a564c23',\n",
       " '5d847bc4fc80feb2b197cde103963ca5',\n",
       " '67a0da468c31cff23c32dbfb6dcb6b70',\n",
       " '6a23c2eb9acc78f8ec403be9c6210dd4',\n",
       " '6bca83dbf6e081bccb2b23188577ad36',\n",
       " '6df23f718baba6b30c0f3a6a516ae0bf',\n",
       " '703be52823d96209cb055709ac70e5a6',\n",
       " '7094ed51ce16d5ba737ef483df555c6f',\n",
       " '752aa5bbc175624474d9dc15558755e1',\n",
       " '7c898e0b8ea203dd94ba846627fc34d1',\n",
       " '8312d7de87652a517f739c42bb4fd3f0',\n",
       " '847ae12131fb2ab1eadf2a377dc1e620',\n",
       " '8ce6b041b5fa5dfaa937f53e145ce299',\n",
       " '92a73c1b226e585ad9d74a1b8d4e0faf',\n",
       " '95aaccc936e7e81419cce63c21062954',\n",
       " '9b6bfa37bf400cdadb8f867ce97855ae',\n",
       " '9ceac7c9fb2a8689bdba0978375b86ed',\n",
       " '9d9734db712d5ab6c3ff4c33700eb34c',\n",
       " 'a4d56f9d3619387639fec0567bc4693d',\n",
       " 'b80921007ed3f68cf6e536e6daf08610',\n",
       " 'c1f5307decb89342351bec53668cffd9',\n",
       " 'c91fd1bf3e75d3b29370483ffda5eee0',\n",
       " 'd41322ce7da20b675c1d9b927da128ef',\n",
       " 'd5e84279347d5f46ae9fdbbdd570a71d',\n",
       " 'e251ebd2858be1aa7d9b2087a6992580',\n",
       " 'e2c7aa41c299a45244b67505e990a1d3',\n",
       " 'f1d52f5898b4fa4f26ffd82aa0147044',\n",
       " 'f286c2fe211df4102919d0bed084dddf',\n",
       " 'ffa5d8273d8e03363bb4014de3f89dce']"
      ]
     },
     "execution_count": 7,
     "metadata": {},
     "output_type": "execute_result"
    }
   ],
   "source": [
    "Recommend"
   ]
  },
  {
   "cell_type": "code",
   "execution_count": null,
   "id": "29f11fbd-5f89-454d-875e-208d67f28598",
   "metadata": {},
   "outputs": [],
   "source": []
  }
 ],
 "metadata": {
  "kernelspec": {
   "display_name": "Python 3 (ipykernel)",
   "language": "python",
   "name": "python3"
  },
  "language_info": {
   "codemirror_mode": {
    "name": "ipython",
    "version": 3
   },
   "file_extension": ".py",
   "mimetype": "text/x-python",
   "name": "python",
   "nbconvert_exporter": "python",
   "pygments_lexer": "ipython3",
   "version": "3.10.10"
  }
 },
 "nbformat": 4,
 "nbformat_minor": 5
}
