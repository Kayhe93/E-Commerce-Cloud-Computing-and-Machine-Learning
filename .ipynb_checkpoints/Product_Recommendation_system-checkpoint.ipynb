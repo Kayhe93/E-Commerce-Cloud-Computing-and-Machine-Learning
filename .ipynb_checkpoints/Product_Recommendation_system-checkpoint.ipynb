{
 "cells": [
  {
   "cell_type": "code",
   "execution_count": 6,
   "id": "86d69d97-ab09-4437-8ce3-b35488fa0bc2",
   "metadata": {
    "execution": {
     "iopub.execute_input": "2023-04-13T18:56:15.119281Z",
     "iopub.status.busy": "2023-04-13T18:56:15.118283Z",
     "iopub.status.idle": "2023-04-13T18:56:20.258652Z",
     "shell.execute_reply": "2023-04-13T18:56:20.257653Z",
     "shell.execute_reply.started": "2023-04-13T18:56:15.119281Z"
    },
    "tags": []
   },
   "outputs": [],
   "source": [
    "# Data preprocessing, math and plotting\n",
    "import os\n",
    "import numpy as np \n",
    "import pandas as pd \n",
    "from scipy import stats \n",
    "import matplotlib.pyplot as plt\n",
    "import seaborn as sns \n",
    "# ML \n",
    "import sklearn\n",
    "from sklearn.decomposition import TruncatedSVD\n",
    "from sklearn.feature_extraction.text import TfidfVectorizer, CountVectorizer\n",
    "from sklearn.neighbors import NearestNeighbors\n",
    "from sklearn.cluster import KMeans\n",
    "from sklearn.metrics import adjusted_rand_score\n",
    "from sklearn.linear_model import LinearRegression\n",
    "from sklearn.model_selection import train_test_split\n",
    "from sklearn.preprocessing import StandardScaler\n",
    "from sklearn.preprocessing import normalize\n",
    "from sklearn.metrics import r2_score, confusion_matrix"
   ]
  },
  {
   "cell_type": "code",
   "execution_count": 9,
   "id": "003dc73f-241a-446f-9abf-031b27d94414",
   "metadata": {
    "execution": {
     "iopub.execute_input": "2023-04-13T19:14:37.622072Z",
     "iopub.status.busy": "2023-04-13T19:14:37.620867Z",
     "iopub.status.idle": "2023-04-13T19:14:42.103543Z",
     "shell.execute_reply": "2023-04-13T19:14:42.101873Z",
     "shell.execute_reply.started": "2023-04-13T19:14:37.622072Z"
    },
    "tags": []
   },
   "outputs": [],
   "source": [
    "customers_df = pd.read_csv(r\"data\\olist_customers_dataset.csv\")\n",
    "geolocation_df = pd.read_csv(r'data/olist_geolocation_dataset.csv') # drop\n",
    "orders_df = pd.read_csv(r'data/olist_orders_dataset.csv')\n",
    "order_items_df = pd.read_csv(r'data/olist_order_items_dataset.csv')\n",
    "order_payments_df = pd.read_csv(r'data/olist_order_payments_dataset.csv')\n",
    "reviews_df = pd.read_csv(r'data/olist_order_reviews_dataset.csv') \n",
    "products_df = pd.read_csv(r'data/olist_products_dataset.csv')\n",
    "sellers_df = pd.read_csv(r'data/olist_sellers_dataset.csv') \n",
    "category_names_translated_df = pd.read_csv(r'data/product_category_name_translation.csv') \n",
    "# Get product category translation\n",
    "products_translated_df = category_names_translated_df.merge(products_df, on='product_category_name', how='left')\n",
    "products_translated_df.drop(products_translated_df.columns[[0]], axis=1, inplace=True)"
   ]
  },
  {
   "cell_type": "code",
   "execution_count": 10,
   "id": "7db9c954-084e-4e14-b19a-c0dfcca704fa",
   "metadata": {
    "execution": {
     "iopub.execute_input": "2023-04-13T19:15:13.588600Z",
     "iopub.status.busy": "2023-04-13T19:15:13.587600Z",
     "iopub.status.idle": "2023-04-13T19:15:15.625118Z",
     "shell.execute_reply": "2023-04-13T19:15:15.624118Z",
     "shell.execute_reply.started": "2023-04-13T19:15:13.588600Z"
    },
    "tags": []
   },
   "outputs": [],
   "source": [
    "merged_df = orders_df.merge(order_items_df, on='order_id', how='left')\n",
    "merged_df = merged_df.merge(order_payments_df, on='order_id', how='outer', validate='m:m')\n",
    "merged_df = merged_df.merge(reviews_df, on='order_id', how='outer')\n",
    "merged_df = merged_df.merge(customers_df, on='customer_id', how='outer')\n",
    "merged_df = merged_df.merge(sellers_df, on='seller_id', how='outer')\n",
    "merged_df = merged_df.merge(products_translated_df, on='product_id', how='outer')"
   ]
  },
  {
   "cell_type": "markdown",
   "id": "0f67ae55-fb61-46bb-a7d8-3c195ab72cd9",
   "metadata": {},
   "source": [
    "### Create Model-based Collaborative filtering system"
   ]
  },
  {
   "cell_type": "markdown",
   "id": "b86a8cfe-e758-4dfd-9611-9e5c800ce322",
   "metadata": {
    "execution": {
     "iopub.execute_input": "2023-04-13T19:17:03.977335Z",
     "iopub.status.busy": "2023-04-13T19:17:03.976024Z",
     "iopub.status.idle": "2023-04-13T19:17:04.217030Z",
     "shell.execute_reply": "2023-04-13T19:17:04.215074Z",
     "shell.execute_reply.started": "2023-04-13T19:17:03.977335Z"
    },
    "tags": []
   },
   "source": [
    "##### Recommend items to customers based on the purchase history and similarity of ratings provided by other customers. Items bought by the same customers, with the highest ratings, will be recommended to other customers with similar purchase history, weighted by their item rankings. Using a collaborative filtering technique helps predict products that a customer might buy, based on the patterns seen by customer specific preferences."
   ]
  },
  {
   "cell_type": "markdown",
   "id": "d883d3cb-1c26-492f-8fca-2aa4f548f259",
   "metadata": {
    "execution": {
     "iopub.execute_input": "2023-04-13T19:18:26.665782Z",
     "iopub.status.busy": "2023-04-13T19:18:26.665782Z",
     "iopub.status.idle": "2023-04-13T19:18:26.887745Z",
     "shell.execute_reply": "2023-04-13T19:18:26.886745Z",
     "shell.execute_reply.started": "2023-04-13T19:18:26.665782Z"
    },
    "tags": []
   },
   "source": [
    "##### Utility Matrix & Singular Value Decomposition (SVD)\n",
    "###### A utility matrix consits of all possible customer-item preferences, using item similarity weighted by the customer's ratings of said items. The data associated with each customer represents how much the customer appreciates the item, in respect to others who purchase the same item.\n",
    "###### The SVD transformer performs linear dimensionality reduction by means of truncated singular value decomposition (SVD). Unlike PCA, principle component analysis, this estimator does not center the data before computing the singular value decomposition. This means that it can efficiently work with sparse matices."
   ]
  },
  {
   "cell_type": "code",
   "execution_count": 13,
   "id": "471ac0ab-7233-43ec-9db8-8c1c58bddd5a",
   "metadata": {
    "execution": {
     "iopub.execute_input": "2023-04-13T19:22:14.345500Z",
     "iopub.status.busy": "2023-04-13T19:22:14.344500Z",
     "iopub.status.idle": "2023-04-13T19:22:17.250464Z",
     "shell.execute_reply": "2023-04-13T19:22:17.249604Z",
     "shell.execute_reply.started": "2023-04-13T19:22:14.345500Z"
    },
    "tags": []
   },
   "outputs": [],
   "source": [
    "# subset of dataset 'df_train'\n",
    "df_train_subset = merged_df.head(10000)\n",
    "\n",
    "df_train_util_matrix = df_train_subset.pivot_table(values='review_score', index='customer_id', columns='product_id', fill_value=0)\n",
    "df_train_util_matrix.head()\n",
    "              \n",
    "# transpose the matrix\n",
    "X = df_train_util_matrix.T\n",
    "X.head()\n",
    "\n",
    "# unique products in subset of data\n",
    "X1 = X\n",
    "\n",
    "# SVD transformation\n",
    "SVD = TruncatedSVD(n_components=10)\n",
    "decomposed_matrix = SVD.fit_transform(X)\n",
    "decomposed_matrix.shape"
   ]
  },
  {
   "cell_type": "code",
   "execution_count": null,
   "id": "2d4be194-0d0c-4713-8cd7-8f7aaf1f7dd4",
   "metadata": {},
   "outputs": [],
   "source": []
  }
 ],
 "metadata": {
  "kernelspec": {
   "display_name": "Python 3 (ipykernel)",
   "language": "python",
   "name": "python3"
  },
  "language_info": {
   "codemirror_mode": {
    "name": "ipython",
    "version": 3
   },
   "file_extension": ".py",
   "mimetype": "text/x-python",
   "name": "python",
   "nbconvert_exporter": "python",
   "pygments_lexer": "ipython3",
   "version": "3.10.10"
  }
 },
 "nbformat": 4,
 "nbformat_minor": 5
}
