# Data preprocessing, math and plotting
import os
import numpy as np 
import pandas as pd 
from scipy import stats 
import matplotlib.pyplot as plt
import seaborn as sns 
# ML 
import sklearn
from sklearn.decomposition import TruncatedSVD
from sklearn.feature_extraction.text import TfidfVectorizer, CountVectorizer
from sklearn.neighbors import NearestNeighbors
from sklearn.cluster import KMeans
from sklearn.metrics import adjusted_rand_score
from sklearn.linear_model import LinearRegression
from sklearn.model_selection import train_test_split
from sklearn.preprocessing import StandardScaler
from sklearn.preprocessing import normalize
from sklearn.metrics import r2_score, confusion_matrix
from sklearn.ensemble import RandomForestClassifier
import datetime
import random
import warnings
warnings.filterwarnings('ignore')


customers_df = pd.read_csv(r'data/olist_customers_dataset.csv')
geolocation_df = pd.read_csv(r'data/olist_geolocation_dataset.csv') # drop
orders_df = pd.read_csv(r'data/olist_orders_dataset.csv')
order_items_df = pd.read_csv(r'data/olist_order_items_dataset.csv')
order_payments_df = pd.read_csv(r'data/olist_order_payments_dataset.csv')
reviews_df = pd.read_csv(r'data/olist_order_reviews_dataset.csv') 
products_df = pd.read_csv(r'data/olist_products_dataset.csv')
sellers_df = pd.read_csv(r'data/olist_sellers_dataset.csv') 
category_names_translated_df = pd.read_csv(r'data/product_category_name_translation.csv') 
# Get product category translation
products_translated_df = category_names_translated_df.merge(products_df, on='product_category_name', how='left')
products_translated_df.drop(products_translated_df.columns[[0]], axis=1, inplace=True)


# Get product category translation
merged_df = orders_df.merge(order_items_df, on='order_id', how='left')
merged_df = merged_df.merge(order_payments_df, on='order_id', how='outer', validate='m:m')
merged_df = merged_df.merge(reviews_df, on='order_id', how='outer')
merged_df = merged_df.merge(customers_df, on='customer_id', how='outer')
merged_df = merged_df.merge(sellers_df, on='seller_id', how='outer')
merged_df = merged_df.merge(products_translated_df, on='product_id', how='outer')


def resumetable(df):
    print(f"Dataset Shape: {df.shape}")
    summary = pd.DataFrame(df.dtypes,columns=['dtypes'])
    summary = summary.reset_index()
    summary['Name'] = summary['index']
    summary = summary[['Name','dtypes']]
    summary['Missing'] = df.isnull().sum().values    
    summary['Uniques'] = df.nunique().values
    summary['First Value'] = df.loc[0].values

    for name in summary['Name'].value_counts().index:
        summary.loc[summary['Name'] == name, 'Entropy'] = round(stats.entropy(df[name].value_counts(normalize=True), base=2),2) 

    return summary

def data_types(df):
    print(f"Dataset Shape: {df.shape}")
    summary = pd.DataFrame(df.dtypes,columns=['dtypes'])
    summary = summary.reset_index()
    summary['Name'] = summary['index']
    summary = summary[['Name','dtypes']]

    return summary

resumetable(merged_df)


# Need to convert datetime features to the correct format

show_original_dtypes = data_types(merged_df)

merged_df.order_purchase_timestamp = pd.to_datetime(merged_df.order_purchase_timestamp)
merged_df.order_approved_at = pd.to_datetime(merged_df.order_approved_at)
merged_df.order_delivered_carrier_date = pd.to_datetime(merged_df.order_delivered_carrier_date)
merged_df.order_estimated_delivery_date = pd.to_datetime(merged_df.order_estimated_delivery_date)
merged_df.order_delivered_customer_date = pd.to_datetime(merged_df.order_delivered_customer_date)
merged_df.review_creation_date = pd.to_datetime(merged_df.review_creation_date)
merged_df.review_answer_timestamp = pd.to_datetime(merged_df.review_answer_timestamp)
merged_df.shipping_limit_date = pd.to_datetime(merged_df.shipping_limit_date)

# Show/validate changed data types
show_new_dtypes = data_types(merged_df)
compare_dtypes = show_original_dtypes.merge(show_new_dtypes, on='Name', how='outer')
different_dtypes = compare_dtypes[compare_dtypes['dtypes_x'] != compare_dtypes['dtypes_y']]
different_dtypes


# sort the dataframe by mean review score in descending order
avg_score_per_category = avg_score_per_category.sort_values('count', ascending=False)

# create the figure and axes objects
fig, ax1 = plt.subplots(figsize=(20, 6))
ax2 = ax1.twinx()

# create the bar plots for counts and mean
sns.barplot(x='product_category_name_english', y='count', data=avg_score_per_category, color='green', ax=ax1)
sns.lineplot(x='product_category_name_english', y='mean', data=avg_score_per_category, color='blue', marker='o', markersize=10, ax=ax2)

# add count labels on top of the bars
for i, v in enumerate(avg_score_per_category['count']):
    ax1.text(i, v + 500, str(v), color='black', ha='center')

# set the y-axis labels and tick labels
ax1.set_ylabel('Count', color='green')
ax2.set_ylabel('Mean Review Score')
ax1.set_yticks(range(0, max(avg_score_per_category['count'])+1, 1000))
ax2.set_yticks(range(0, 6))
ax2.set_ylim(0, 5)

# set the x-axis labels and tick labels
ax1.set_xlabel('Product Category')
ax1.set_xticklabels(avg_score_per_category['product_category_name_english'], rotation=45, ha='right')

# adjust the position and angle of the x-tick labels
ax1.tick_params(axis='x', which='major', pad=15, rotation=45)

# add titles
ax1.set_title('Average Review Score and Count per Product Category', fontsize=16)

plt.tight_layout()
plt.show()


# sort the dataframe by mean review score in descending order
avg_score_per_category = avg_score_per_category.sort_values('count', ascending=False)

# create the figure and axis objects
fig, ax1 = plt.subplots(figsize=(18, 6))
ax2 = ax1.twinx()

# create the first bar for mean review score
ax1.bar(avg_score_per_category['product_category_name_english'], avg_score_per_category['mean'], color='green', alpha=0.7, edgecolor='black')
ax1.set_ylabel('Mean Review Score', fontsize=12)

# create the second bar for count
ax2.bar(avg_score_per_category['product_category_name_english'], avg_score_per_category['count'], color='yellow', alpha=0.7, edgecolor='black')
ax2.set_ylabel('Count', fontsize=12)

# add titles and labels
ax1.set_title('Average Review Score and Count per Product Category', fontsize=16)
ax1.set_xlabel('Product Category', fontsize=12)

# rotate and space out x-axis labels
ax1.set_xticklabels(avg_score_per_category['product_category_name_english'], rotation=45, ha='right')
ax1.set_xlim(-0.5, len(avg_score_per_category) - 0.5)

# display the plot
plt.show()
